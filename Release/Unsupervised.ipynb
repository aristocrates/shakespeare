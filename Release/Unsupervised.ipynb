{
 "cells": [
  {
   "cell_type": "code",
   "execution_count": 36,
   "metadata": {},
   "outputs": [
    {
     "name": "stdout",
     "output_type": "stream",
     "text": [
      "From fairest creatures we desire increase,\n",
      "['From', 'fairest', 'creatures', 'we', 'desire', 'increase,']\n"
     ]
    }
   ],
   "source": [
    "from HMM import unsupervised_HMM\n",
    "from HMM_helper import (\n",
    "    text_to_wordcloud,\n",
    "    states_to_wordclouds,\n",
    "    parse_observations,\n",
    "    sample_sentence,\n",
    "    visualize_sparsities,\n",
    "    animate_emission\n",
    ")\n",
    "import preprocessor\n",
    "import numpy as np\n",
    "import random\n",
    "\n",
    "sonnets = preprocessor.load_sonnets()\n",
    "print(sonnets[0][0])\n",
    "words = sonnets[0][0].split()\n",
    "print(words)"
   ]
  },
  {
   "cell_type": "code",
   "execution_count": 29,
   "metadata": {},
   "outputs": [],
   "source": [
    "word_dict = {}\n",
    "line_lengths = np.zeros(14)\n",
    "index = 0\n",
    "token_lines = []\n",
    "for sonnet in sonnets:\n",
    "    for line in sonnet:\n",
    "        token_line = []\n",
    "        words = line.split()\n",
    "        line_lengths[len(words)] += 1\n",
    "        for word in words:\n",
    "            if word not in word_dict:\n",
    "                word_dict[word] = index\n",
    "                index += 1\n",
    "            token_line.append(word_dict[word])\n",
    "        token_lines.append(token_line)\n",
    "        \n",
    "line_lengths /= sum(line_lengths)"
   ]
  },
  {
   "cell_type": "code",
   "execution_count": 34,
   "metadata": {},
   "outputs": [
    {
     "name": "stdout",
     "output_type": "stream",
     "text": [
      "[ 0.          0.          0.          0.          0.          0.01113689\n",
      "  0.07146172  0.18886311  0.32204176  0.2900232   0.11554524  0.00092807\n",
      "  0.          0.        ]\n"
     ]
    }
   ],
   "source": [
    "#print(word_dict)\n",
    "print(line_lengths)"
   ]
  },
  {
   "cell_type": "code",
   "execution_count": 21,
   "metadata": {},
   "outputs": [
    {
     "name": "stdout",
     "output_type": "stream",
     "text": [
      "2155\n",
      "Iteration: 10\n"
     ]
    }
   ],
   "source": [
    "print(len(token_lines))\n",
    "\n",
    "hmm = unsupervised_HMM(token_lines, 20, 10)"
   ]
  },
  {
   "cell_type": "code",
   "execution_count": 37,
   "metadata": {},
   "outputs": [
    {
     "name": "stdout",
     "output_type": "stream",
     "text": [
      "\n",
      "Sample Sentences:\n",
      "====================\n",
      "So themselves thee perjured this my in eyes being me...\n",
      "The thou spurring i groan fortune self art, no of...\n",
      "Out-going am beside brow, you which leave thee,...\n",
      "Hell date, that of all temperate: churl of perfection...\n",
      "For veil of brought world excel: furrows every...\n",
      "Besiege sad. over days can water, doth...\n",
      "Thou canst light? ride, might dost you...\n",
      "Farther unless lay steals cruel, even part. my he...\n",
      "To due again shall spirit, bear thy wrong, keeps there...\n",
      "Tongue, and my truth: mine unseen with in...\n"
     ]
    }
   ],
   "source": [
    "print('\\nSample Sentences:\\n====================')\n",
    "for i in range(10):\n",
    "    r = random.random()\n",
    "    for j in range(14):\n",
    "        r -= line_lengths[j]\n",
    "        if r <= 0:\n",
    "            print(sample_sentence(hmm, word_dict, n_words=j))\n",
    "            break"
   ]
  },
  {
   "cell_type": "code",
   "execution_count": null,
   "metadata": {
    "collapsed": true
   },
   "outputs": [],
   "source": []
  }
 ],
 "metadata": {
  "kernelspec": {
   "display_name": "Python 3",
   "language": "python",
   "name": "python3"
  },
  "language_info": {
   "codemirror_mode": {
    "name": "ipython",
    "version": 3
   },
   "file_extension": ".py",
   "mimetype": "text/x-python",
   "name": "python",
   "nbconvert_exporter": "python",
   "pygments_lexer": "ipython3",
   "version": "3.6.3"
  }
 },
 "nbformat": 4,
 "nbformat_minor": 2
}
